{
 "cells": [
  {
   "cell_type": "markdown",
   "metadata": {},
   "source": [
    "## Klasa 'ZadaniaMatematykiDyskretnej' umożliwia obliczenie wyników dla kilku probelmów występujących w matematyce dyskretnej"
   ]
  },
  {
   "cell_type": "markdown",
   "metadata": {},
   "source": [
    "#### Pytanie: Podaj, ile jest dzielników naturalnych liczby ...\n",
    "Wykorzystamy tu metodę która znajduje w pętli wszystkie dzielniki liczby"
   ]
  },
  {
   "cell_type": "code",
   "execution_count": 53,
   "metadata": {},
   "outputs": [
    {
     "data": {
      "text/plain": [
       "'Liczba dzielników dla liczby 4 to 3'"
      ]
     },
     "metadata": {},
     "output_type": "display_data"
    }
   ],
   "source": [
    "from IPython.display import display\n",
    "def Dzielniki(a):\n",
    "    result = 0;\n",
    "    for i in range(1, a + 1):\n",
    "        if a % i == 0:\n",
    "            result += 1   \n",
    "    return result;\n",
    "\n",
    "a = 4 # tu wpisz wartość do sprawdzenia\n",
    "display('Liczba dzielników dla liczby ' + str(a) + ' to ' + str(Dzielniki(a)))"
   ]
  },
  {
   "cell_type": "markdown",
   "metadata": {},
   "source": [
    "#### Pytanie: Oblicz, ile jest funkcji wzajemnie jednoznacznych f:A→A,  jeśli moc zbioru A wynosi ...\n",
    "Wykorzystamy metodę rekurencyjną obliczającą silnię"
   ]
  },
  {
   "cell_type": "code",
   "execution_count": 54,
   "metadata": {},
   "outputs": [
    {
     "data": {
      "text/plain": [
       "'Ilość funkcji wzajemnie jednoznacznych dla mocy 6 to 720'"
      ]
     },
     "metadata": {},
     "output_type": "display_data"
    }
   ],
   "source": [
    "from IPython.display import display\n",
    "def silnia(n):\n",
    "    if n < 2:\n",
    "           return 1\n",
    "    return n * silnia(n - 1)\n",
    "\n",
    "def IleFunkcjiWzajemnieJednoznacznych(x):\n",
    "    return silnia(x)\n",
    "\n",
    "moc = 6 # tu wpisz wartość do sprawdzenia\n",
    "\n",
    "display('Ilość funkcji wzajemnie jednoznacznych dla mocy ' + str(moc) + ' to ' + str(IleFunkcjiWzajemnieJednoznacznych(moc)))"
   ]
  },
  {
   "cell_type": "markdown",
   "metadata": {},
   "source": [
    "#### Pytanie: Oblicz ile jest .k.-elementowych podzbiorów zbioru .n.-elementowego\n",
    "Poniższe obliczenia również wykorzystują funcję silnia"
   ]
  },
  {
   "cell_type": "code",
   "execution_count": 55,
   "metadata": {},
   "outputs": [
    {
     "data": {
      "text/plain": [
       "'Ilość podzbiorów 3-elementowych w zbiorze 12-elementowym wynosi 220'"
      ]
     },
     "metadata": {},
     "output_type": "display_data"
    }
   ],
   "source": [
    "from IPython.display import display\n",
    "def silnia(n):\n",
    "    if n < 2:\n",
    "           return 1\n",
    "    return n * silnia(n - 1)\n",
    "\n",
    "def Podzbiory(k, n):\n",
    "    if (n < k):    \n",
    "        print(\"ilość zbiorów musi być wieksza niż ilość podzbiorów\")   \n",
    "    g = silnia(n)\n",
    "    d = silnia(k) * silnia(n - k)\n",
    "    return round(g / d)\n",
    "\n",
    "k = 3 # tu wpisz ilość dla podzbiorów\n",
    "n = 12 # tu wpisz ilość w zbiorze\n",
    "\n",
    "display('Ilość podzbiorów ' + str(k) + '-elementowych w zbiorze ' + str(n) + '-elementowym wynosi ' + str(Podzbiory(k,n)))"
   ]
  },
  {
   "cell_type": "markdown",
   "metadata": {},
   "source": [
    "#### Pytanie: Oblicz, ile jest wszystkich podzbiorów zbioru k-elementowego?"
   ]
  },
  {
   "cell_type": "code",
   "execution_count": 56,
   "metadata": {},
   "outputs": [
    {
     "data": {
      "text/plain": [
       "'Ilość wszystkich podzbiorów w zbiorze 10-elementowym wynosi 1024'"
      ]
     },
     "metadata": {},
     "output_type": "display_data"
    }
   ],
   "source": [
    "from IPython.display import display\n",
    "def Podzbiory(k):\n",
    "    return 2 ** k\n",
    "\n",
    "k = 10 # tu wpisz ilość w zbiorze\n",
    "\n",
    "display('Ilość wszystkich podzbiorów w zbiorze ' + str(k) + '-elementowym wynosi ' + str(Podzbiory(k)))"
   ]
  },
  {
   "cell_type": "markdown",
   "metadata": {},
   "source": [
    "#### Pytanie: Ile krawędzi ma graf pełny K..."
   ]
  },
  {
   "cell_type": "code",
   "execution_count": 57,
   "metadata": {},
   "outputs": [
    {
     "data": {
      "text/plain": [
       "'Ilość krawędzi w grafie pełnym K10 wynosi 45.0'"
      ]
     },
     "metadata": {},
     "output_type": "display_data"
    }
   ],
   "source": [
    "from IPython.display import display\n",
    "def KrawedzieGrafu(krawedz):\n",
    "    return (krawedz * (krawedz - 1)) / 2\n",
    "\n",
    "k = 10 # tu wpisz ilość krawędzi\n",
    "\n",
    "display('Ilość krawędzi w grafie pełnym K' + str(k) + ' wynosi ' + str(KrawedzieGrafu(k)))"
   ]
  },
  {
   "cell_type": "markdown",
   "metadata": {},
   "source": [
    "#### Pytanie: Oblicz największy wspólny dzielnik liczb a oraz b.\n",
    "\n",
    "Metoda działa dobrze dla liczb całkowitych większych od zera\n",
    "\n",
    "***parmetr a*** Dla wartości mniejszych od zera otrzymamy wynik -1\n",
    "\n",
    "***parmetr b*** Parametr nie może być zerem, w przypadku 0 otrzymamy wynik -1"
   ]
  },
  {
   "cell_type": "code",
   "execution_count": 59,
   "metadata": {},
   "outputs": [
    {
     "data": {
      "text/plain": [
       "'Największy wspólny dzielnika liczb10 i 5 wynosi 5'"
      ]
     },
     "metadata": {},
     "output_type": "display_data"
    }
   ],
   "source": [
    "from IPython.display import display\n",
    "def  NajwiekszyWpolnyDzielnik(a, b):\n",
    "    if (b == 0 or a < 0):    \n",
    "        return -1    \n",
    "    c = 0\n",
    "    while (b != 0):    \n",
    "        c = a % b\n",
    "        a = b\n",
    "        b = c\n",
    "    \n",
    "    return a\n",
    "\n",
    "a = 10 # pierwsza liczba\n",
    "b = 5 # druga liczba\n",
    "\n",
    "display('Największy wspólny dzielnika liczb' + str(a) + ' i ' + str(b) + ' wynosi ' + str(NajwiekszyWpolnyDzielnik(a, b)))"
   ]
  }
 ],
 "metadata": {
  "kernelspec": {
   "display_name": "Python 3",
   "language": "python",
   "name": "python3"
  },
  "language_info": {
   "codemirror_mode": {
    "name": "ipython",
    "version": 3
   },
   "file_extension": ".py",
   "mimetype": "text/x-python",
   "name": "python",
   "nbconvert_exporter": "python",
   "pygments_lexer": "ipython3",
   "version": "3.7.4"
  }
 },
 "nbformat": 4,
 "nbformat_minor": 2
}
