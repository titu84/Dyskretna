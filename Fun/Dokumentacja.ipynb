{
 "cells": [
  {
   "cell_type": "markdown",
   "metadata": {},
   "source": [
    "## Klasa 'ZadaniaMatematykiDyskretnej' umożliwia obliczenie wyników dla kilku probelmów występujących w matematyce dyskretnej"
   ]
  },
  {
   "cell_type": "markdown",
   "metadata": {},
   "source": [
    "#### Pytanie: Podaj, ile jest dzielników naturalnych liczby ...\n",
    "Wykorzystamy tu metodę która znajduje w pętli wszystkie dzielniki liczby"
   ]
  },
  {
   "cell_type": "code",
   "execution_count": 31,
   "metadata": {},
   "outputs": [
    {
     "data": {
      "application/javascript": [
       "function Dzielniki(a){\n",
       "    let result = 0;\n",
       "    for (let i = 1; i <= a; i++)\n",
       "         result += a % i == 0 ? 1 : 0;\n",
       "    return result;\n",
       "}\n",
       "let a = 4 // tu wpisz wartość do sprawdzenia\n",
       "\n",
       "element.text('Liczba dzielników dla liczby ' + a + ' to ' + Dzielniki(a));\n"
      ],
      "text/plain": [
       "<IPython.core.display.Javascript object>"
      ]
     },
     "metadata": {},
     "output_type": "display_data"
    }
   ],
   "source": [
    "%%js\n",
    "function Dzielniki(a){\n",
    "    let result = 0;\n",
    "    for (let i = 1; i <= a; i++)\n",
    "         result += a % i == 0 ? 1 : 0;\n",
    "    return result;\n",
    "}\n",
    "let a = 4 // tu wpisz wartość do sprawdzenia\n",
    "\n",
    "element.text('Liczba dzielników dla liczby ' + a + ' to ' + Dzielniki(a));"
   ]
  },
  {
   "cell_type": "markdown",
   "metadata": {},
   "source": [
    "#### Pytanie: Oblicz, ile jest funkcji wzajemnie jednoznacznych f:A→A,  jeśli moc zbioru A wynosi ...\n",
    "Wykorzystamy metodę rekurencyjną obliczającą silnię"
   ]
  },
  {
   "cell_type": "code",
   "execution_count": 32,
   "metadata": {},
   "outputs": [
    {
     "data": {
      "application/javascript": [
       "function silnia(n){\n",
       "    if (n < 2)\n",
       "       return 1;\n",
       "    return n * silnia(n - 1);\n",
       "}\n",
       "function IleFunkcjiWzajemnieJednoznacznych(x){\n",
       "    return silnia(x);\n",
       "}\n",
       "let moc = 6 // tu wpisz wartość do sprawdzenia\n",
       "\n",
       "element.text('Ilość funkcji wzajemnie jednoznacznych dla mocy ' + moc + ' to ' + IleFunkcjiWzajemnieJednoznacznych(moc));\n"
      ],
      "text/plain": [
       "<IPython.core.display.Javascript object>"
      ]
     },
     "metadata": {},
     "output_type": "display_data"
    }
   ],
   "source": [
    "%%js\n",
    "function silnia(n){\n",
    "    if (n < 2)\n",
    "       return 1;\n",
    "    return n * silnia(n - 1);\n",
    "}\n",
    "function IleFunkcjiWzajemnieJednoznacznych(x){\n",
    "    return silnia(x);\n",
    "}\n",
    "let moc = 6 // tu wpisz wartość do sprawdzenia\n",
    "\n",
    "element.text('Ilość funkcji wzajemnie jednoznacznych dla mocy ' + moc + ' to ' + IleFunkcjiWzajemnieJednoznacznych(moc));"
   ]
  },
  {
   "cell_type": "markdown",
   "metadata": {},
   "source": [
    "#### Pytanie: Oblicz ile jest .k.-elementowych podzbiorów zbioru .n.-elementowego\n",
    "Poniższe obliczenia również wykorzystują funcję silnia"
   ]
  },
  {
   "cell_type": "code",
   "execution_count": 33,
   "metadata": {},
   "outputs": [
    {
     "data": {
      "application/javascript": [
       "function silnia(n){\n",
       "    if (n < 2)\n",
       "       return 1;\n",
       "    return n * silnia(n - 1);\n",
       "}\n",
       "function Podzbiory(k, n)\n",
       "{\n",
       "    if (n < k)\n",
       "    {\n",
       "        alert(\"ilość zbiorów musi być wieksza niż ilość podzbiorów\");\n",
       "    }\n",
       "    let g = silnia(n);\n",
       "    let d = silnia(k) * silnia(n - k);\n",
       "    return g / d;\n",
       "}\n",
       "let k = 3 // tu wpisz ilość dla podzbiorów\n",
       "let n = 12 // tu wpisz ilość w zbiorze\n",
       "\n",
       "element.text('Ilość podzbiorów ' + k + '-elementowych w zbiorze ' + n + '-elementowym wynosi ' + Podzbiory(k,n));\n"
      ],
      "text/plain": [
       "<IPython.core.display.Javascript object>"
      ]
     },
     "metadata": {},
     "output_type": "display_data"
    }
   ],
   "source": [
    "%%js\n",
    "function silnia(n){\n",
    "    if (n < 2)\n",
    "       return 1;\n",
    "    return n * silnia(n - 1);\n",
    "}\n",
    "function Podzbiory(k, n)\n",
    "{\n",
    "    if (n < k)\n",
    "    {\n",
    "        alert(\"ilość zbiorów musi być wieksza niż ilość podzbiorów\");\n",
    "    }\n",
    "    let g = silnia(n);\n",
    "    let d = silnia(k) * silnia(n - k);\n",
    "    return g / d;\n",
    "}\n",
    "let k = 3 // tu wpisz ilość dla podzbiorów\n",
    "let n = 12 // tu wpisz ilość w zbiorze\n",
    "\n",
    "element.text('Ilość podzbiorów ' + k + '-elementowych w zbiorze ' + n + '-elementowym wynosi ' + Podzbiory(k,n));"
   ]
  },
  {
   "cell_type": "markdown",
   "metadata": {},
   "source": [
    "#### Pytanie: Oblicz, ile jest wszystkich podzbiorów zbioru k-elementowego?"
   ]
  },
  {
   "cell_type": "code",
   "execution_count": 34,
   "metadata": {},
   "outputs": [
    {
     "data": {
      "application/javascript": [
       "function Podzbiory(k)\n",
       "{\n",
       "    return Math.pow(2, k);\n",
       "}\n",
       "let k = 10 // tu wpisz ilość w zbiorze\n",
       "\n",
       "element.text('Ilość wszystkich podzbiorów w zbiorze ' + k + '-elementowym wynosi ' + Podzbiory(k));\n"
      ],
      "text/plain": [
       "<IPython.core.display.Javascript object>"
      ]
     },
     "metadata": {},
     "output_type": "display_data"
    }
   ],
   "source": [
    "%%js\n",
    "function Podzbiory(k)\n",
    "{\n",
    "    return Math.pow(2, k);\n",
    "}\n",
    "let k = 10 // tu wpisz ilość w zbiorze\n",
    "\n",
    "element.text('Ilość wszystkich podzbiorów w zbiorze ' + k + '-elementowym wynosi ' + Podzbiory(k));"
   ]
  },
  {
   "cell_type": "markdown",
   "metadata": {},
   "source": [
    "#### Pytanie: Ile krawędzi ma graf pełny K..."
   ]
  },
  {
   "cell_type": "code",
   "execution_count": 35,
   "metadata": {},
   "outputs": [
    {
     "data": {
      "application/javascript": [
       "function KrawedzieGrafu(krawedz)\n",
       "{\n",
       "    return (krawedz * (krawedz - 1)) / 2;\n",
       "}\n",
       "let k = 10 // tu wpisz ilość krawędzi\n",
       "\n",
       "element.text('Ilość krawędzi w grafie pełnym K' + k + ' wynosi ' + KrawedzieGrafu(k));\n"
      ],
      "text/plain": [
       "<IPython.core.display.Javascript object>"
      ]
     },
     "metadata": {},
     "output_type": "display_data"
    }
   ],
   "source": [
    "%%js\n",
    "function KrawedzieGrafu(krawedz)\n",
    "{\n",
    "    return (krawedz * (krawedz - 1)) / 2;\n",
    "}\n",
    "let k = 10 // tu wpisz ilość krawędzi\n",
    "\n",
    "element.text('Ilość krawędzi w grafie pełnym K' + k + ' wynosi ' + KrawedzieGrafu(k));"
   ]
  },
  {
   "cell_type": "markdown",
   "metadata": {},
   "source": [
    "#### Pytanie: Oblicz największy wspólny dzielnik liczb a oraz b.\n",
    "\n",
    "Metoda działa dobrze dla liczb całkowitych większych od zera\n",
    "\n",
    "***parmetr a*** Dla wartości mniejszych od zera otrzymamy wynik -1\n",
    "\n",
    "***parmetr b*** Parametr nie może być zerem, w przypadku 0 otrzymamy wynik -1"
   ]
  },
  {
   "cell_type": "code",
   "execution_count": 36,
   "metadata": {},
   "outputs": [
    {
     "data": {
      "application/javascript": [
       "function NajwiekszyWpolnyDzielnik(a, b)\n",
       "{\n",
       "    if (b == 0 || a < 0)\n",
       "    {\n",
       "        return -1;\n",
       "    }\n",
       "    let c;\n",
       "    while (b != 0)\n",
       "    {\n",
       "        c = a % b;\n",
       "        a = b;\n",
       "        b = c;\n",
       "    }\n",
       "    return a;\n",
       "}\n",
       "\n",
       "let a = 10 // pierwsza liczba\n",
       "let b = 5 // druga liczba\n",
       "\n",
       "element.text('Największy wspólny dzielnika liczb' + a + ' i ' + b + ' wynosi ' + NajwiekszyWpolnyDzielnik(a, b));\n"
      ],
      "text/plain": [
       "<IPython.core.display.Javascript object>"
      ]
     },
     "metadata": {},
     "output_type": "display_data"
    }
   ],
   "source": [
    "%%js\n",
    "function NajwiekszyWpolnyDzielnik(a, b)\n",
    "{\n",
    "    if (b == 0 || a < 0)\n",
    "    {\n",
    "        return -1;\n",
    "    }\n",
    "    let c;\n",
    "    while (b != 0)\n",
    "    {\n",
    "        c = a % b;\n",
    "        a = b;\n",
    "        b = c;\n",
    "    }\n",
    "    return a;\n",
    "}\n",
    "\n",
    "let a = 10 // pierwsza liczba\n",
    "let b = 5 // druga liczba\n",
    "\n",
    "element.text('Największy wspólny dzielnika liczb' + a + ' i ' + b + ' wynosi ' + NajwiekszyWpolnyDzielnik(a, b));"
   ]
  },
  {
   "cell_type": "code",
   "execution_count": null,
   "metadata": {},
   "outputs": [],
   "source": []
  }
 ],
 "metadata": {
  "kernelspec": {
   "display_name": "Python 3",
   "language": "python",
   "name": "python3"
  },
  "language_info": {
   "codemirror_mode": {
    "name": "ipython",
    "version": 3
   },
   "file_extension": ".py",
   "mimetype": "text/x-python",
   "name": "python",
   "nbconvert_exporter": "python",
   "pygments_lexer": "ipython3",
   "version": "3.7.4"
  }
 },
 "nbformat": 4,
 "nbformat_minor": 2
}
